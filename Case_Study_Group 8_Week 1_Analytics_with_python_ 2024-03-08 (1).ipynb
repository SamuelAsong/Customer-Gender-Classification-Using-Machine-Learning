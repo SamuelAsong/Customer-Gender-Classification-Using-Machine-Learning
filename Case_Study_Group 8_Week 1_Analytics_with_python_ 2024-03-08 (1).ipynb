{
 "cells": [
  {
   "cell_type": "code",
   "execution_count": 1,
   "id": "37e52dc5-19eb-439c-9175-f5a4fb60567a",
   "metadata": {},
   "outputs": [
    {
     "name": "stdout",
     "output_type": "stream",
     "text": [
      "Charge_for_food : $ 50\n"
     ]
    },
    {
     "name": "stdout",
     "output_type": "stream",
     "text": [
      "tip = $9.00\n",
      "Sales_tax = $3.50\n",
      "Grand_total = $62.50\n"
     ]
    }
   ],
   "source": [
    "# Case Study Group 8_Week 1_Analytics_with_python_Overview_of_Python_2024-03-08.\n",
    "# As a Finance officer at Asanko Hotel,\n",
    "# Writing a python program that calculates the total amount of meal\n",
    "\n",
    "# Charge of the food = $50\n",
    "\n",
    "Charge_for_food = float(input(\"Charge_for_food : $\"))\n",
    "\n",
    "# Purchased with fixed tip\n",
    "# Tip is 18 % of Charge of the food\n",
    "# Sales Tax 7 % of Charge of the food\n",
    "\n",
    "Tip = (18/100) * (Charge_for_food)\n",
    "Sales_tax = (7/100) * (Charge_for_food)\n",
    "\n",
    "Grand_total = Tip + Charge_for_food + Sales_tax\n",
    "\n",
    "a=Grand_total\n",
    "b=Tip\n",
    "c=Sales_tax\n",
    "\n",
    "# with charge_for_food = $50, run print program and entering amount $50 would print \n",
    "# tip\n",
    "# sale_tax\n",
    "# Grand_total \n",
    "\n",
    "print( f'tip = ${b:.2f}\\nSales_tax = ${c:.2f}\\nGrand_total = ${a:.2f}')\n"
   ]
  }
 ],
 "metadata": {
  "kernelspec": {
   "display_name": "Python 3 (ipykernel)",
   "language": "python",
   "name": "python3"
  },
  "language_info": {
   "codemirror_mode": {
    "name": "ipython",
    "version": 3
   },
   "file_extension": ".py",
   "mimetype": "text/x-python",
   "name": "python",
   "nbconvert_exporter": "python",
   "pygments_lexer": "ipython3",
   "version": "3.9.13"
  }
 },
 "nbformat": 4,
 "nbformat_minor": 5
}
